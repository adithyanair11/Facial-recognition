{
 "cells": [
  {
   "cell_type": "markdown",
   "id": "a36d01fa",
   "metadata": {},
   "source": [
    "### Importing all the necessary Python packages"
   ]
  },
  {
   "cell_type": "code",
   "execution_count": 3,
   "id": "ac899aa1",
   "metadata": {},
   "outputs": [],
   "source": [
    "import numpy as np \n",
    "import pandas as pd \n",
    "import cv2\n",
    "import matplotlib.pyplot as plt"
   ]
  },
  {
   "cell_type": "markdown",
   "id": "5004dca0",
   "metadata": {},
   "source": [
    "### Importing all the necessary Deep Learning packages"
   ]
  },
  {
   "cell_type": "code",
   "execution_count": 4,
   "id": "1f100770",
   "metadata": {},
   "outputs": [],
   "source": [
    "from tensorflow.keras.utils import to_categorical"
   ]
  },
  {
   "cell_type": "code",
   "execution_count": 5,
   "id": "3a897be8",
   "metadata": {},
   "outputs": [],
   "source": [
    "from keras.models import Sequential\n",
    "from keras.layers import Dense , Activation , Dropout ,Flatten\n",
    "from keras.layers.convolutional import Conv2D\n",
    "from keras.layers.convolutional import MaxPooling2D\n",
    "from keras.metrics import categorical_accuracy\n",
    "from keras.models import model_from_json\n",
    "from keras.callbacks import ModelCheckpoint\n",
    "from keras.optimizers import *\n",
    "from keras.layers import BatchNormalization"
   ]
  },
  {
   "cell_type": "code",
   "execution_count": 6,
   "id": "b320bca0",
   "metadata": {},
   "outputs": [],
   "source": [
    "df = pd.read_csv('fer2013.csv') #Reading the dataset using Pandas"
   ]
  },
  {
   "cell_type": "code",
   "execution_count": 7,
   "id": "59d45d77",
   "metadata": {},
   "outputs": [
    {
     "data": {
      "text/html": [
       "<div>\n",
       "<style scoped>\n",
       "    .dataframe tbody tr th:only-of-type {\n",
       "        vertical-align: middle;\n",
       "    }\n",
       "\n",
       "    .dataframe tbody tr th {\n",
       "        vertical-align: top;\n",
       "    }\n",
       "\n",
       "    .dataframe thead th {\n",
       "        text-align: right;\n",
       "    }\n",
       "</style>\n",
       "<table border=\"1\" class=\"dataframe\">\n",
       "  <thead>\n",
       "    <tr style=\"text-align: right;\">\n",
       "      <th></th>\n",
       "      <th>emotion</th>\n",
       "      <th>pixels</th>\n",
       "      <th>Usage</th>\n",
       "    </tr>\n",
       "  </thead>\n",
       "  <tbody>\n",
       "    <tr>\n",
       "      <th>0</th>\n",
       "      <td>0</td>\n",
       "      <td>70 80 82 72 58 58 60 63 54 58 60 48 89 115 121...</td>\n",
       "      <td>Training</td>\n",
       "    </tr>\n",
       "    <tr>\n",
       "      <th>1</th>\n",
       "      <td>0</td>\n",
       "      <td>151 150 147 155 148 133 111 140 170 174 182 15...</td>\n",
       "      <td>Training</td>\n",
       "    </tr>\n",
       "    <tr>\n",
       "      <th>2</th>\n",
       "      <td>2</td>\n",
       "      <td>231 212 156 164 174 138 161 173 182 200 106 38...</td>\n",
       "      <td>Training</td>\n",
       "    </tr>\n",
       "    <tr>\n",
       "      <th>3</th>\n",
       "      <td>4</td>\n",
       "      <td>24 32 36 30 32 23 19 20 30 41 21 22 32 34 21 1...</td>\n",
       "      <td>Training</td>\n",
       "    </tr>\n",
       "    <tr>\n",
       "      <th>4</th>\n",
       "      <td>6</td>\n",
       "      <td>4 0 0 0 0 0 0 0 0 0 0 0 3 15 23 28 48 50 58 84...</td>\n",
       "      <td>Training</td>\n",
       "    </tr>\n",
       "  </tbody>\n",
       "</table>\n",
       "</div>"
      ],
      "text/plain": [
       "   emotion                                             pixels     Usage\n",
       "0        0  70 80 82 72 58 58 60 63 54 58 60 48 89 115 121...  Training\n",
       "1        0  151 150 147 155 148 133 111 140 170 174 182 15...  Training\n",
       "2        2  231 212 156 164 174 138 161 173 182 200 106 38...  Training\n",
       "3        4  24 32 36 30 32 23 19 20 30 41 21 22 32 34 21 1...  Training\n",
       "4        6  4 0 0 0 0 0 0 0 0 0 0 0 3 15 23 28 48 50 58 84...  Training"
      ]
     },
     "execution_count": 7,
     "metadata": {},
     "output_type": "execute_result"
    }
   ],
   "source": [
    "df.head()"
   ]
  },
  {
   "cell_type": "code",
   "execution_count": 8,
   "id": "fa716330",
   "metadata": {},
   "outputs": [
    {
     "data": {
      "text/plain": [
       "2304"
      ]
     },
     "execution_count": 8,
     "metadata": {},
     "output_type": "execute_result"
    }
   ],
   "source": [
    "len(df.iloc[0]['pixels'].split()) "
   ]
  },
  {
   "cell_type": "code",
   "execution_count": 70,
   "id": "04ae0a9f",
   "metadata": {},
   "outputs": [],
   "source": [
    "# Number of pixels is 48*48"
   ]
  },
  {
   "cell_type": "code",
   "execution_count": 9,
   "id": "59cbcb6a",
   "metadata": {},
   "outputs": [],
   "source": [
    "label_map = ['Anger', 'Neutral', 'Fear', 'Happy', 'Sad', 'Surprise']"
   ]
  },
  {
   "cell_type": "code",
   "execution_count": 10,
   "id": "96e953aa",
   "metadata": {},
   "outputs": [
    {
     "data": {
      "text/plain": [
       "2304"
      ]
     },
     "execution_count": 10,
     "metadata": {},
     "output_type": "execute_result"
    }
   ],
   "source": [
    "#Converting the pixels from strings to integer values\n",
    "img = df.iloc[0]['pixels'].split()\n",
    "img = [int(i) for i in img]\n",
    "type(img[0])\n",
    "len(img)"
   ]
  },
  {
   "cell_type": "code",
   "execution_count": 11,
   "id": "37f3ffcf",
   "metadata": {},
   "outputs": [],
   "source": [
    "img = np.array(img)"
   ]
  },
  {
   "cell_type": "code",
   "execution_count": 12,
   "id": "c3dde346",
   "metadata": {},
   "outputs": [],
   "source": [
    "img = img.reshape(48,48)"
   ]
  },
  {
   "cell_type": "code",
   "execution_count": 13,
   "id": "738ee477",
   "metadata": {},
   "outputs": [
    {
     "data": {
      "text/plain": [
       "(48, 48)"
      ]
     },
     "execution_count": 13,
     "metadata": {},
     "output_type": "execute_result"
    }
   ],
   "source": [
    "img.shape"
   ]
  },
  {
   "cell_type": "code",
   "execution_count": 14,
   "id": "d1297904",
   "metadata": {},
   "outputs": [
    {
     "data": {
      "text/plain": [
       "Text(0.5, 0, '0')"
      ]
     },
     "execution_count": 14,
     "metadata": {},
     "output_type": "execute_result"
    },
    {
     "data": {
      "image/png": "[encoded data removed]",
      "text/plain": [
       "<Figure size 432x288 with 1 Axes>"
      ]
     },
     "metadata": {
      "needs_background": "light"
     },
     "output_type": "display_data"
    }
   ],
   "source": [
    "plt.imshow(img, cmap='gray')\n",
    "plt.xlabel(df.iloc[0]['emotion'])"
   ]
  },
  {
   "cell_type": "code",
   "execution_count": 15,
   "id": "bc947a81",
   "metadata": {},
   "outputs": [],
   "source": [
    "X = []\n",
    "y = []"
   ]
  },
  {
   "cell_type": "code",
   "execution_count": 16,
   "id": "eadfee5f",
   "metadata": {},
   "outputs": [],
   "source": [
    "#Creating a function to convert all the pixel data from string to int and appending it to X\n",
    "#And appending all the corresponding labels to y\n",
    "#Also dropping the disgust label for containing very less training data\n",
    "\n",
    "def getData(path):\n",
    "    anger = 0\n",
    "    fear = 0\n",
    "    sad = 0\n",
    "    happy = 0\n",
    "    surprise = 0\n",
    "    neutral = 0\n",
    "    df = pd.read_csv(path)\n",
    "    \n",
    "    X = []\n",
    "    y = []    \n",
    "    \n",
    "    for i in range(len(df)):\n",
    "        if df.iloc[i]['emotion'] != 1:\n",
    "            if df.iloc[i]['emotion'] == 0:\n",
    "                if anger <= 4000:            \n",
    "                    y.append(df.iloc[i]['emotion'])\n",
    "                    im = df.iloc[i]['pixels']\n",
    "                    im = [int(x) for x in im.split()]\n",
    "                    X.append(im)\n",
    "                    anger += 1\n",
    "                else:\n",
    "                    pass\n",
    "                \n",
    "            if df.iloc[i]['emotion'] == 2:\n",
    "                if fear <= 4000:            \n",
    "                    y.append(df.iloc[i]['emotion'])\n",
    "                    im = df.iloc[i]['pixels']\n",
    "                    im = [int(x) for x in im.split()]\n",
    "                    X.append(im)\n",
    "                    fear += 1\n",
    "                else:\n",
    "                    pass\n",
    "                \n",
    "            if df.iloc[i]['emotion'] == 3:\n",
    "                if happy <= 4000:            \n",
    "                    y.append(df.iloc[i]['emotion'])\n",
    "                    im = df.iloc[i]['pixels']\n",
    "                    im = [int(x) for x in im.split()]\n",
    "                    X.append(im)\n",
    "                    happy += 1\n",
    "                else:\n",
    "                    pass\n",
    "                \n",
    "            if df.iloc[i]['emotion'] == 4:\n",
    "                if sad <= 4000:            \n",
    "                    y.append(df.iloc[i]['emotion'])\n",
    "                    im = df.iloc[i]['pixels']\n",
    "                    im = [int(x) for x in im.split()]\n",
    "                    X.append(im)\n",
    "                    sad += 1\n",
    "                else:\n",
    "                    pass\n",
    "                \n",
    "            if df.iloc[i]['emotion'] == 5:\n",
    "                if surprise <= 4000:            \n",
    "                    y.append(df.iloc[i]['emotion'])\n",
    "                    im = df.iloc[i]['pixels']\n",
    "                    im = [int(x) for x in im.split()]\n",
    "                    X.append(im)\n",
    "                    surprise += 1\n",
    "                else:\n",
    "                    pass\n",
    "                \n",
    "            if df.iloc[i]['emotion'] == 6:\n",
    "                if neutral <= 4000:            \n",
    "                    y.append(df.iloc[i]['emotion'])\n",
    "                    im = df.iloc[i]['pixels']\n",
    "                    im = [int(x) for x in im.split()]\n",
    "                    X.append(im)\n",
    "                    neutral += 1\n",
    "                else:\n",
    "                    pass\n",
    "\n",
    "            \n",
    "            \n",
    "    return X, y "
   ]
  },
  {
   "cell_type": "code",
   "execution_count": 17,
   "id": "9182caab",
   "metadata": {},
   "outputs": [],
   "source": [
    "X, y = getData('fer2013.csv')"
   ]
  },
  {
   "cell_type": "code",
   "execution_count": 18,
   "id": "2f1729db",
   "metadata": {},
   "outputs": [
    {
     "data": {
      "text/plain": [
       "(array([0, 2, 3, 4, 5, 6], dtype=int64),\n",
       " array([4001, 4001, 4001, 4001, 4001, 4001], dtype=int64))"
      ]
     },
     "execution_count": 18,
     "metadata": {},
     "output_type": "execute_result"
    }
   ],
   "source": [
    "np.unique(y, return_counts=True)"
   ]
  },
  {
   "cell_type": "code",
   "execution_count": 19,
   "id": "77f7611c",
   "metadata": {},
   "outputs": [],
   "source": [
    "X = np.array(X)/255.0\n",
    "y = np.array(y)"
   ]
  },
  {
   "cell_type": "code",
   "execution_count": 20,
   "id": "fc9d364c",
   "metadata": {},
   "outputs": [
    {
     "data": {
      "text/plain": [
       "((24006, 2304), (24006,))"
      ]
     },
     "execution_count": 20,
     "metadata": {},
     "output_type": "execute_result"
    }
   ],
   "source": [
    "X.shape, y.shape"
   ]
  },
  {
   "cell_type": "code",
   "execution_count": 21,
   "id": "7283aa01",
   "metadata": {},
   "outputs": [],
   "source": [
    "y_o = []\n",
    "for i in y:\n",
    "    if i != 6:\n",
    "        y_o.append(i)\n",
    "        \n",
    "    else:\n",
    "        y_o.append(1)"
   ]
  },
  {
   "cell_type": "code",
   "execution_count": 22,
   "id": "b937efa1",
   "metadata": {},
   "outputs": [
    {
     "data": {
      "text/plain": [
       "(array([0, 1, 2, 3, 4, 5], dtype=int64),\n",
       " array([4001, 4001, 4001, 4001, 4001, 4001], dtype=int64))"
      ]
     },
     "execution_count": 22,
     "metadata": {},
     "output_type": "execute_result"
    }
   ],
   "source": [
    "np.unique(y_o, return_counts=True)"
   ]
  },
  {
   "cell_type": "code",
   "execution_count": 23,
   "id": "e94e8b9b",
   "metadata": {},
   "outputs": [
    {
     "data": {
      "image/png": "[encoded data removed]",
      "text/plain": [
       "<Figure size 432x288 with 1 Axes>"
      ]
     },
     "metadata": {
      "needs_background": "light"
     },
     "output_type": "display_data"
    },
    {
     "data": {
      "image/png": "[encoded data removed]",
      "text/plain": [
       "<Figure size 432x288 with 1 Axes>"
      ]
     },
     "metadata": {
      "needs_background": "light"
     },
     "output_type": "display_data"
    },
    {
     "data": {
      "image/png": "[encoded data removed]",
      "text/plain": [
       "<Figure size 432x288 with 1 Axes>"
      ]
     },
     "metadata": {
      "needs_background": "light"
     },
     "output_type": "display_data"
    },
    {
     "data": {
      "image/png": "[encoded data removed]",
      "text/plain": [
       "<Figure size 432x288 with 1 Axes>"
      ]
     },
     "metadata": {
      "needs_background": "light"
     },
     "output_type": "display_data"
    },
    {
     "data": {
      "image/png": "[encoded data removed]",
      "text/plain": [
       "<Figure size 432x288 with 1 Axes>"
      ]
     },
     "metadata": {
      "needs_background": "light"
     },
     "output_type": "display_data"
    }
   ],
   "source": [
    "for i in range(5):\n",
    "    r = np.random.randint((1), 24000, 1)[0]\n",
    "    plt.figure()\n",
    "    plt.imshow(X[r].reshape(48,48), cmap='gray')\n",
    "    plt.xlabel(label_map[y_o[r]])\n"
   ]
  },
  {
   "cell_type": "code",
   "execution_count": 24,
   "id": "939c575b",
   "metadata": {},
   "outputs": [],
   "source": [
    "X = X.reshape(len(X), 48, 48, 1)"
   ]
  },
  {
   "cell_type": "code",
   "execution_count": 25,
   "id": "a0f11e9e",
   "metadata": {},
   "outputs": [
    {
     "data": {
      "text/plain": [
       "(24006, 48, 48, 1)"
      ]
     },
     "execution_count": 25,
     "metadata": {},
     "output_type": "execute_result"
    }
   ],
   "source": [
    "X.shape"
   ]
  },
  {
   "cell_type": "code",
   "execution_count": 26,
   "id": "7378aff6",
   "metadata": {},
   "outputs": [],
   "source": [
    "y_new = to_categorical(y_o, num_classes=6)"
   ]
  },
  {
   "cell_type": "code",
   "execution_count": 27,
   "id": "7dcb33f0",
   "metadata": {},
   "outputs": [
    {
     "data": {
      "text/plain": [
       "(24006, (24006, 6))"
      ]
     },
     "execution_count": 27,
     "metadata": {},
     "output_type": "execute_result"
    }
   ],
   "source": [
    "len(y_o), y_new.shape"
   ]
  },
  {
   "cell_type": "code",
   "execution_count": 28,
   "id": "67f4a28a",
   "metadata": {},
   "outputs": [
    {
     "data": {
      "text/plain": [
       "(0, array([1., 0., 0., 0., 0., 0.], dtype=float32))"
      ]
     },
     "execution_count": 28,
     "metadata": {},
     "output_type": "execute_result"
    }
   ],
   "source": [
    "y_o[150], y_new[150]"
   ]
  },
  {
   "cell_type": "markdown",
   "id": "8976ba94",
   "metadata": {},
   "source": [
    "### Creating the training model"
   ]
  },
  {
   "cell_type": "code",
   "execution_count": 71,
   "id": "846b977d",
   "metadata": {},
   "outputs": [],
   "source": [
    "model = Sequential()\n",
    "\n",
    "\n",
    "input_shape = (48,48,1)\n",
    "\n",
    "\n",
    "model.add(Conv2D(64, (5, 5), input_shape=input_shape,activation='relu', padding='same'))\n",
    "model.add(Conv2D(64, (5, 5), padding='same'))\n",
    "model.add(BatchNormalization())\n",
    "model.add(Activation('relu'))\n",
    "model.add(MaxPooling2D(pool_size=(2, 2)))\n",
    "\n",
    "\n",
    "model.add(Conv2D(128, (5, 5),activation='relu',padding='same'))\n",
    "model.add(Conv2D(128, (5, 5),padding='same'))\n",
    "model.add(BatchNormalization())\n",
    "model.add(Activation('relu'))\n",
    "model.add(MaxPooling2D(pool_size=(2, 2)))\n",
    "\n",
    "model.add(Conv2D(256, (3, 3),activation='relu',padding='same'))\n",
    "model.add(Conv2D(256, (3, 3),activation='relu',padding='same'))\n",
    "model.add(BatchNormalization())\n",
    "model.add(MaxPooling2D(pool_size=(2, 2)))\n",
    "\n",
    "\n",
    "model.add(Flatten())\n",
    "model.add(Dense(6, activation='softmax'))\n",
    "\n",
    "model.compile(loss='categorical_crossentropy', metrics=['accuracy'],optimizer='adam')"
   ]
  },
  {
   "cell_type": "code",
   "execution_count": 30,
   "id": "20658eb5",
   "metadata": {},
   "outputs": [
    {
     "name": "stdout",
     "output_type": "stream",
     "text": [
      "Epoch 1/22\n",
      "301/301 [==============================] - 888s 3s/step - loss: 2.1145 - accuracy: 0.2491 - val_loss: 2.3282 - val_accuracy: 0.1125\n",
      "Epoch 2/22\n",
      "301/301 [==============================] - 875s 3s/step - loss: 1.6994 - accuracy: 0.3391 - val_loss: 1.4601 - val_accuracy: 0.4202\n",
      "Epoch 3/22\n",
      "301/301 [==============================] - 876s 3s/step - loss: 1.5329 - accuracy: 0.4071 - val_loss: 1.7057 - val_accuracy: 0.3344\n",
      "Epoch 4/22\n",
      "301/301 [==============================] - 882s 3s/step - loss: 1.4008 - accuracy: 0.4560 - val_loss: 1.9871 - val_accuracy: 0.3344\n",
      "Epoch 5/22\n",
      "301/301 [==============================] - 873s 3s/step - loss: 1.2976 - accuracy: 0.4979 - val_loss: 1.3370 - val_accuracy: 0.4621\n",
      "Epoch 6/22\n",
      "301/301 [==============================] - 822s 3s/step - loss: 1.2430 - accuracy: 0.5204 - val_loss: 1.3110 - val_accuracy: 0.4971\n",
      "Epoch 7/22\n",
      "301/301 [==============================] - 823s 3s/step - loss: 1.1762 - accuracy: 0.5494 - val_loss: 1.5014 - val_accuracy: 0.4157\n",
      "Epoch 8/22\n",
      "301/301 [==============================] - 823s 3s/step - loss: 1.0975 - accuracy: 0.5721 - val_loss: 1.9426 - val_accuracy: 0.3898\n",
      "Epoch 9/22\n",
      "301/301 [==============================] - 827s 3s/step - loss: 1.0387 - accuracy: 0.6054 - val_loss: 1.2653 - val_accuracy: 0.5531\n",
      "Epoch 10/22\n",
      "301/301 [==============================] - 829s 3s/step - loss: 0.9660 - accuracy: 0.6339 - val_loss: 1.5575 - val_accuracy: 0.4550\n",
      "Epoch 11/22\n",
      "301/301 [==============================] - 824s 3s/step - loss: 0.9016 - accuracy: 0.6594 - val_loss: 1.3012 - val_accuracy: 0.5277\n",
      "Epoch 12/22\n",
      "301/301 [==============================] - 825s 3s/step - loss: 0.8054 - accuracy: 0.7005 - val_loss: 1.4550 - val_accuracy: 0.5165\n",
      "Epoch 13/22\n",
      "301/301 [==============================] - 825s 3s/step - loss: 0.7042 - accuracy: 0.7373 - val_loss: 2.0109 - val_accuracy: 0.4150\n",
      "Epoch 14/22\n",
      "301/301 [==============================] - 824s 3s/step - loss: 0.6147 - accuracy: 0.7730 - val_loss: 2.0443 - val_accuracy: 0.4484\n",
      "Epoch 15/22\n",
      "301/301 [==============================] - 822s 3s/step - loss: 0.4691 - accuracy: 0.8306 - val_loss: 1.7335 - val_accuracy: 0.5219\n",
      "Epoch 16/22\n",
      "301/301 [==============================] - 838s 3s/step - loss: 0.3539 - accuracy: 0.8737 - val_loss: 2.1641 - val_accuracy: 0.4819\n",
      "Epoch 17/22\n",
      "301/301 [==============================] - 823s 3s/step - loss: 0.2974 - accuracy: 0.8944 - val_loss: 2.5797 - val_accuracy: 0.4600\n",
      "Epoch 18/22\n",
      "301/301 [==============================] - 824s 3s/step - loss: 0.2162 - accuracy: 0.9231 - val_loss: 2.4675 - val_accuracy: 0.5104\n",
      "Epoch 19/22\n",
      "301/301 [==============================] - 823s 3s/step - loss: 0.2022 - accuracy: 0.9344 - val_loss: 2.3436 - val_accuracy: 0.5254\n",
      "Epoch 20/22\n",
      "301/301 [==============================] - 827s 3s/step - loss: 0.1193 - accuracy: 0.9668 - val_loss: 2.6665 - val_accuracy: 0.5158\n",
      "Epoch 21/22\n",
      "301/301 [==============================] - 824s 3s/step - loss: 0.1241 - accuracy: 0.9621 - val_loss: 3.0195 - val_accuracy: 0.5319\n",
      "Epoch 22/22\n",
      "301/301 [==============================] - 824s 3s/step - loss: 0.1339 - accuracy: 0.9574 - val_loss: 3.6501 - val_accuracy: 0.4327\n"
     ]
    },
    {
     "data": {
      "text/plain": [
       "<keras.callbacks.History at 0x1c3a17d2be0>"
      ]
     },
     "execution_count": 30,
     "metadata": {},
     "output_type": "execute_result"
    }
   ],
   "source": [
    "model.fit(X, y_new, epochs=22, batch_size=64, shuffle=True, validation_split=0.2)"
   ]
  },
  {
   "cell_type": "code",
   "execution_count": 31,
   "id": "6e965df4",
   "metadata": {},
   "outputs": [],
   "source": [
    "model.save('model.h5')"
   ]
  }
 ],
 "metadata": {
  "kernelspec": {
   "display_name": "Python 3 (ipykernel)",
   "language": "python",
   "name": "python3"
  },
  "language_info": {
   "codemirror_mode": {
    "name": "ipython",
    "version": 3
   },
   "file_extension": ".py",
   "mimetype": "text/x-python",
   "name": "python",
   "nbconvert_exporter": "python",
   "pygments_lexer": "ipython3",
   "version": "3.9.7"
  }
 },
 "nbformat": 4,
 "nbformat_minor": 5
}
